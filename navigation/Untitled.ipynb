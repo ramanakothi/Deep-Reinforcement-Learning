{
 "cells": [
  {
   "cell_type": "code",
   "execution_count": 3,
   "metadata": {},
   "outputs": [
    {
     "name": "stdout",
     "output_type": "stream",
     "text": [
      "Throughout this course, we'll concern ourselves\n",
      "with the idea of learning from interaction.\n",
      "In the field of reinforcement learning,\n",
      "we refer to the learner or decision maker as the agent.\n",
      "But I really like dogs, so we'll instead,\n",
      "think of the agent as a small puppy born into\n",
      "the world without any understanding of how anything works.\n",
      "And when he opens his eyes,\n",
      "the first thing he observes is his owner.\n",
      "Now, say the owner communicates to the puppy how she would like it to behave.\n",
      "The puppy looks at the command and based on that observation,\n",
      "he's expected to choose how to respond.\n",
      "Of course, he hasn't invested interest in responding appropriately,\n",
      "mostly to stay out of trouble but maybe to even get a treat.\n",
      "Now, newborn puppies are complicated creatures and it's\n",
      "impossible to count the number of actions that he could take at any point in time.\n",
      "Furthermore, he doesn't know what any of the actions\n",
      "do yet or what effect will have on the world.\n",
      "So we'll have to try them out and see what happens.\n",
      "So how will he respond to his owners command?\n",
      "At this point, he has no reason to favor any action over the others.\n",
      "And so, let's say he just picks one at random.\n",
      "Of course, with full understanding that he has no idea what he's doing.\n",
      "In this case, he decides to sit.\n",
      "After taking this action,\n",
      "he waits for a response.\n",
      "And I have to imagine the wait is pretty scary\n",
      "as it's entirely uncertain what will happen next.\n",
      "In response to his action,\n",
      "he receives feedback from his owner.\n",
      "In this case, he receives a single treat.\n",
      "That's encouraging and he's off to a great start.\n",
      "We'll assume that in general,\n",
      "his only goal is to maximize reward.\n",
      "He'd like it to be as positive as possible.\n",
      "That holds for now and at every point in the future.\n",
      "But now the owner has given\n",
      "a new command and it's time for him to choose his next response.\n",
      "What do you think? Sitting seemed to perform well.\n",
      "But now, the command looks different.\n",
      "So maybe a different action is more appropriate.\n",
      "He decides to again pick an action randomly.\n",
      "In this case, he decides to run and waits for a response.\n",
      "And, oh no, he received discouraging feedback from his owner.\n",
      "Now, it's unclear if this is just a bad action in general\n",
      "or if he should just not run in response to this particular observation.\n",
      "He can only discover this through interacting more with\n",
      "his owner through systematically proposing and testing hypotheses.\n",
      "And so the process continues where at each point in time,\n",
      "the puppy takes an action and then simultaneously\n",
      "receives feedback and an updated observation from his owner.\n",
      "At each point in time,\n",
      "he does his best to execute the appropriate action to make his owner happy.\n",
      "Now at first glance, it could seem that when we view interaction along these lines,\n",
      "everything is pretty simple.\n",
      "After all, the way the puppy interacts with his owner is quite systematic.\n",
      "And while it may take him some time to get an idea of what's happening,\n",
      "he should be able to figure it out eventually.\n",
      "But as you progress through this course,\n",
      "you'll see that this puppy situation is surprisingly complex.\n",
      "For instance, he'll have to find the balance with on\n",
      "the one hand exploring potential hypotheses for how to choose actions.\n",
      "And on the other,\n",
      "exploiting his limited knowledge about what he already knows should work well.\n",
      "That is, should he settle for just one treat or should he aim higher?\n",
      "This is a very important concept in reinforcement learning.\n",
      "While there are some widely adopted techniques\n",
      "for balancing these two competing requirements,\n",
      "this question has inspired an entire subfield of reinforcement learning,\n",
      "and remains an area of active research.\n",
      "Another thing that's important to note is that if\n",
      "our puppy is truly a reinforcement learning agent,\n",
      "he's not just concerned with the reward he can get now.\n",
      "Instead, his goal is to maximize\n",
      "the total number of treats he can get over his entire lifetime.\n",
      "So while it might be relatively simple to\n",
      "derive a strategy that works well in the short term,\n",
      "he'll have to be a bit more clever if he wants to\n",
      "find strategies that take longer to pay off.\n",
      "In general, this idea of learning from experience is intellectually quite interesting.\n",
      "For instance, if you've ever tried to train a dog\n",
      "perhaps you've noticed that it's not so easy.\n",
      "His first instinct might be whenever I sit I receive\n",
      "a treat rather than whenever my owner says sit and then I sit,\n",
      "I receive a treat.\n",
      "Even though it seems like a reasonable mistake to make,\n",
      "we guarantee you that your agents will know better.\n"
     ]
    }
   ],
   "source": [
    "import pysrt\n",
    "subs = pysrt.open(\"/Users/ramanakothi/deep-reinforcement-learning/p1_navigation/Introduction+to+RL+Subtitles/3 - The Setting - lang_en.srt\")\n",
    "\n",
    "for sub in subs:\n",
    "    print(sub.text)\n",
    "    #print()"
   ]
  },
  {
   "cell_type": "code",
   "execution_count": 1,
   "metadata": {},
   "outputs": [
    {
     "name": "stdout",
     "output_type": "stream",
     "text": [
      "Collecting pysrt\n",
      "\u001b[?25l  Downloading https://files.pythonhosted.org/packages/f6/33/16ad65a8973cb8bcb494af09ee1b9ab5ffdd6ff300bce5d3ac7d3cb1f2cc/pysrt-1.1.1.tar.gz (104kB)\n",
      "\u001b[K     |████████████████████████████████| 112kB 2.4MB/s eta 0:00:01\n",
      "\u001b[?25hCollecting chardet\n",
      "\u001b[?25l  Downloading https://files.pythonhosted.org/packages/bc/a9/01ffebfb562e4274b6487b4bb1ddec7ca55ec7510b22e4c51f14098443b8/chardet-3.0.4-py2.py3-none-any.whl (133kB)\n",
      "\u001b[K     |████████████████████████████████| 143kB 4.3MB/s eta 0:00:01\n",
      "\u001b[?25hBuilding wheels for collected packages: pysrt\n",
      "  Building wheel for pysrt (setup.py) ... \u001b[?25ldone\n",
      "\u001b[?25h  Created wheel for pysrt: filename=pysrt-1.1.1-cp36-none-any.whl size=13355 sha256=901a24800461519c65177c262acfb5eebc72477d2f65799cfc33d7a92e46fcf8\n",
      "  Stored in directory: /Users/ramanakothi/Library/Caches/pip/wheels/a6/95/51/25db5b533f7c8c3bccf661a7f2bf67caaf893f6f92bb37da33\n",
      "Successfully built pysrt\n",
      "Installing collected packages: chardet, pysrt\n",
      "Successfully installed chardet-3.0.4 pysrt-1.1.1\n"
     ]
    }
   ],
   "source": [
    "!pip install pysrt"
   ]
  },
  {
   "cell_type": "code",
   "execution_count": null,
   "metadata": {},
   "outputs": [],
   "source": []
  }
 ],
 "metadata": {
  "kernelspec": {
   "display_name": "Python 3",
   "language": "python",
   "name": "python3"
  },
  "language_info": {
   "codemirror_mode": {
    "name": "ipython",
    "version": 3
   },
   "file_extension": ".py",
   "mimetype": "text/x-python",
   "name": "python",
   "nbconvert_exporter": "python",
   "pygments_lexer": "ipython3",
   "version": "3.6.9"
  }
 },
 "nbformat": 4,
 "nbformat_minor": 2
}
